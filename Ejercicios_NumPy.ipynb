{
  "cells": [
    {
      "cell_type": "markdown",
      "metadata": {
        "id": "view-in-github",
        "colab_type": "text"
      },
      "source": [
        "<a href=\"https://colab.research.google.com/github/G1Martoz/Django-Portfolio/blob/main/Ejercicios_NumPy.ipynb\" target=\"_parent\"><img src=\"https://colab.research.google.com/assets/colab-badge.svg\" alt=\"Open In Colab\"/></a>"
      ]
    },
    {
      "cell_type": "markdown",
      "metadata": {
        "id": "BzD26smYn-eB"
      },
      "source": [
        "# 📘 Ejercicios de Arrays y Matrices con NumPy\n",
        "---Este notebook contiene ejercicios prácticos para trabajar con **arrays y matrices en NumPy**.\n",
        "Completa cada celda de código con la solución correspondiente."
      ],
      "id": "BzD26smYn-eB"
    },
    {
      "cell_type": "markdown",
      "metadata": {
        "id": "TvzhW2ggn-eD"
      },
      "source": [
        "**Ejercicio 1:** Crear un array de 10 elementos con ceros."
      ],
      "id": "TvzhW2ggn-eD"
    },
    {
      "cell_type": "markdown",
      "source": [
        "# Sección nueva"
      ],
      "metadata": {
        "id": "sTOcHX0okF6k"
      },
      "id": "sTOcHX0okF6k"
    },
    {
      "cell_type": "code",
      "metadata": {
        "id": "tDOIpSS3n-eE"
      },
      "execution_count": null,
      "outputs": [],
      "source": [
        "import numpy as np\n",
        "\n"
      ],
      "id": "tDOIpSS3n-eE"
    },
    {
      "cell_type": "markdown",
      "metadata": {
        "id": "IDC8l6n0n-eE"
      },
      "source": [
        "**Ejercicio 2:** Genera un array con los números del 1 al 20."
      ],
      "id": "IDC8l6n0n-eE"
    },
    {
      "cell_type": "code",
      "metadata": {
        "id": "RpjOcgBGn-eE"
      },
      "execution_count": null,
      "outputs": [],
      "source": [
        "# Tu código aquí\n"
      ],
      "id": "RpjOcgBGn-eE"
    },
    {
      "cell_type": "markdown",
      "metadata": {
        "id": "75D0cqnYn-eF"
      },
      "source": [
        "**Ejercicio 3:** Crea un array con los números pares del 2 al 50."
      ],
      "id": "75D0cqnYn-eF"
    },
    {
      "cell_type": "code",
      "metadata": {
        "id": "gYmAr3YBn-eF"
      },
      "execution_count": null,
      "outputs": [],
      "source": [
        "# Tu código aquí\n"
      ],
      "id": "gYmAr3YBn-eF"
    },
    {
      "cell_type": "markdown",
      "metadata": {
        "id": "ntQXOuQLn-eF"
      },
      "source": [
        "**Ejercicio 4:** Genera un array de tamaño 8 donde todos los valores sean 7."
      ],
      "id": "ntQXOuQLn-eF"
    },
    {
      "cell_type": "code",
      "metadata": {
        "id": "5_6lXuV6n-eF"
      },
      "execution_count": null,
      "outputs": [],
      "source": [
        "# Tu código aquí\n"
      ],
      "id": "5_6lXuV6n-eF"
    },
    {
      "cell_type": "markdown",
      "metadata": {
        "id": "gemNufW4n-eG"
      },
      "source": [
        "**Ejercicio 5:** Crea una matriz de 4x4 con valores aleatorios entre 0 y 1."
      ],
      "id": "gemNufW4n-eG"
    },
    {
      "cell_type": "code",
      "metadata": {
        "id": "YrEckgHAn-eG"
      },
      "execution_count": null,
      "outputs": [],
      "source": [
        "# Tu código aquí\n"
      ],
      "id": "YrEckgHAn-eG"
    },
    {
      "cell_type": "markdown",
      "metadata": {
        "id": "kSrnavbRn-eG"
      },
      "source": [
        "**Ejercicio 6:** Realiza la suma elemento a elemento de los arrays a=[1,2,3], b=[4,5,6]."
      ],
      "id": "kSrnavbRn-eG"
    },
    {
      "cell_type": "code",
      "metadata": {
        "id": "HDPosal1n-eG"
      },
      "execution_count": null,
      "outputs": [],
      "source": [
        "a = np.array([1,2,3])\n",
        "b = np.array([4,5,6])\n",
        "# Tu código aquí\n"
      ],
      "id": "HDPosal1n-eG"
    },
    {
      "cell_type": "markdown",
      "metadata": {
        "id": "THsaYTsMn-eG"
      },
      "source": [
        "**Ejercicio 7:** Multiplica dos matrices 3x3 de enteros aleatorios entre 1 y 10."
      ],
      "id": "THsaYTsMn-eG"
    },
    {
      "cell_type": "code",
      "metadata": {
        "id": "bc3mWo4un-eG"
      },
      "execution_count": null,
      "outputs": [],
      "source": [
        "# Tu código aquí\n"
      ],
      "id": "bc3mWo4un-eG"
    },
    {
      "cell_type": "markdown",
      "metadata": {
        "id": "mw4_OLlUn-eG"
      },
      "source": [
        "**Ejercicio 8:** Crea un array de 15 valores aleatorios entre 1 y 100 e imprime su máximo, mínimo y promedio."
      ],
      "id": "mw4_OLlUn-eG"
    },
    {
      "cell_type": "code",
      "metadata": {
        "id": "zLb9M5apn-eG"
      },
      "execution_count": null,
      "outputs": [],
      "source": [
        "# Tu código aquí\n"
      ],
      "id": "zLb9M5apn-eG"
    },
    {
      "cell_type": "markdown",
      "metadata": {
        "id": "kSNsCQAmn-eG"
      },
      "source": [
        "**Ejercicio 9:** Genera una matriz 5x5 con valores del 1 al 25 y extrae su diagonal."
      ],
      "id": "kSNsCQAmn-eG"
    },
    {
      "cell_type": "code",
      "metadata": {
        "id": "sZj-Ezb8n-eG"
      },
      "execution_count": null,
      "outputs": [],
      "source": [
        "# Tu código aquí\n"
      ],
      "id": "sZj-Ezb8n-eG"
    },
    {
      "cell_type": "markdown",
      "metadata": {
        "id": "6Mid86XOn-eH"
      },
      "source": [
        "**Ejercicio 10\n",
        ":** Dada una matriz 5x5 de enteros aleatorios entre 1 y 20, calcula la suma de cada fila y columna."
      ],
      "id": "6Mid86XOn-eH"
    },
    {
      "cell_type": "code",
      "metadata": {
        "id": "KUccoVRKn-eH"
      },
      "execution_count": null,
      "outputs": [],
      "source": [
        "# Tu código aquí\n"
      ],
      "id": "KUccoVRKn-eH"
    }
  ],
  "metadata": {
    "kernelspec": {
      "display_name": "Python 3",
      "language": "python",
      "name": "python3"
    },
    "language_info": {
      "name": "python",
      "version": "3.11"
    },
    "colab": {
      "provenance": [],
      "include_colab_link": true
    }
  },
  "nbformat": 4,
  "nbformat_minor": 5
}